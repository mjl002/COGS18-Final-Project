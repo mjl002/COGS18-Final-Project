{
 "cells": [
  {
   "cell_type": "markdown",
   "metadata": {},
   "source": [
    "COGS18 FINAL PROJECT: Chatbot Ericus\n",
    "\n",
    "- Description\n",
    "This is a python terminal that allows people to talk to my chatbot whose name is Ericus. Ericus is programmed to play three games with you: Rock-paper-scissors, coin flip, and guessing a number for a reward.\n",
    "\n",
    "- Process\n",
    "I built my project upon the A3: Chatbots assignment, because I thouht it was interesting how the input function allowed interaction with the human. I had to import random and string modules because of how well their methods work with user interactions. I created different functions that would be able to interact with whatever game that the person wants to play, and at the end made the function that collated all the other functions called lets_chat().\n",
    "\n",
    "- Setup\n",
    "While the program works fine within this Jupyter notebook, I highly recommended to run the program from 'my_script.py'.\n",
    " \n",
    "- Examples"
   ]
  },
  {
   "cell_type": "markdown",
   "metadata": {},
   "source": [
    "(base) Mels-MacBook-Air:scripts melchisedec$ python my_script.py \n",
    "Hi, what's your name? \n",
    "Mel\n",
    "Hi Mel my name is Ericus!\n",
    "Do you wanna play a game? \n",
    "yes\n",
    "ERICUS: What game? Please enter a Number  1. Rock-Paper-Scissors 2. Coin Flip 3. Pick a Number\n",
    "1\n",
    "ERICUS: Your choices are rock, paper, or scissors. What do you choose?\n",
    "rock\n",
    "ERICUS: I chose rock, too. Looks like we tied.\n",
    "Play again? \n",
    "yes\n",
    "ERICUS: Your choices are rock, paper, or scissors. What do you choose?\n",
    "rock\n",
    "ERICUS: You won, I picked scissors.\n",
    "Play again? \n",
    "yes\n",
    "ERICUS: Your choices are rock, paper, or scissors. What do you choose?\n",
    "paper\n",
    "ERICUS: You won, I picked rock.\n",
    "Play again? \n",
    "no\n",
    "ERICUS: Do you want to play a different game? \n",
    "yes\n",
    "ERICUS: What game? Please enter a Number  1. Rock-Paper-Scissors 2. Coin Flip or 3. Pick a Number\n",
    "2\n",
    "ERICUS: So heads or tails?\n",
    "heads\n",
    "ERICUS: Heads like the lettuce.\n",
    "Play again? \n",
    "no\n",
    "ERICUS: Do you want to play a different game? \n",
    "yes\n",
    "ERICUS: What game? Please enter a Number  1. Rock-Paper-Scissors 2. Coin Flip or 3. Pick a Number\n",
    "3\n",
    "ERICUS: Guess a number between 1 and 20. I'll tell you a secret if you guess correctly!\n",
    "4\n",
    "ERICUS: Way off! The number was 13\n",
    "Play again? \n"
   ]
  }
 ],
 "metadata": {
  "kernelspec": {
   "display_name": "Python 3",
   "language": "python",
   "name": "python3"
  },
  "language_info": {
   "codemirror_mode": {
    "name": "ipython",
    "version": 3
   },
   "file_extension": ".py",
   "mimetype": "text/x-python",
   "name": "python",
   "nbconvert_exporter": "python",
   "pygments_lexer": "ipython3",
   "version": "3.7.6"
  }
 },
 "nbformat": 4,
 "nbformat_minor": 4
}
